{
  "nbformat": 4,
  "nbformat_minor": 0,
  "metadata": {
    "colab": {
      "provenance": []
    },
    "kernelspec": {
      "name": "python3",
      "display_name": "Python 3"
    },
    "language_info": {
      "name": "python"
    }
  },
  "cells": [
    {
      "cell_type": "code",
      "execution_count": null,
      "metadata": {
        "id": "ZKhz4r_SoSE_"
      },
      "outputs": [],
      "source": [
        "Soal 1"
      ]
    },
    {
      "cell_type": "code",
      "source": [
        "nilai_terbaik = [34, 83, 55, 100, 95, 72, 75, 50, 85, 41]\n",
        "nilai_terbaik.sort()\n",
        "print(f\"3 nilai terbaik adalah {nilai_terbaik[-1]}, {nilai_terbaik[-2]}, {nilai_terbaik[-3]}\")"
      ],
      "metadata": {
        "colab": {
          "base_uri": "https://localhost:8080/"
        },
        "id": "epg13nwYoWYk",
        "outputId": "30ce960d-6937-4536-c498-8462d7565c98"
      },
      "execution_count": 1,
      "outputs": [
        {
          "output_type": "stream",
          "name": "stdout",
          "text": [
            "3 nilai terbaik adalah 100, 95, 85\n"
          ]
        }
      ]
    },
    {
      "cell_type": "markdown",
      "source": [
        "Soal 2"
      ],
      "metadata": {
        "id": "eQwiahZ7pOdc"
      }
    },
    {
      "cell_type": "code",
      "source": [
        "list = []\n",
        "while True:\n",
        "  input_user = input(\"Ketik 'done' jika selesai: \")\n",
        "  if input_user == \"done\":\n",
        "    break\n",
        "  else:\n",
        "    data = int(input(\"Masukkan angka: \"))\n",
        "    list.append(data)\n",
        "\n",
        "print(f\"List angka anda : {list}\")\n",
        "print(f\"Nilai maksimumnya adalah : {max(list)}\")\n",
        "print(f\"Nilai minimumnya adalah : {min(list)}\")"
      ],
      "metadata": {
        "colab": {
          "base_uri": "https://localhost:8080/"
        },
        "id": "mH_Tljq9pPiY",
        "outputId": "2e132b0a-cea8-4fb1-aa4a-94478e169520"
      },
      "execution_count": 2,
      "outputs": [
        {
          "output_type": "stream",
          "name": "stdout",
          "text": [
            "Ketik 'done' jika selesai: \n",
            "Masukkan angka: 55\n",
            "Ketik 'done' jika selesai: \n",
            "Masukkan angka: 80\n",
            "Ketik 'done' jika selesai: \n",
            "Masukkan angka: 76\n",
            "Ketik 'done' jika selesai: \n",
            "Masukkan angka: 43\n",
            "Ketik 'done' jika selesai: done\n",
            "List angka anda : [55, 80, 76, 43]\n",
            "Nilai maksimumnya adalah : 80\n",
            "Nilai minimumnya adalah : 43\n"
          ]
        }
      ]
    },
    {
      "cell_type": "markdown",
      "source": [
        "Soal 3"
      ],
      "metadata": {
        "id": "SZasIIUvp8Hi"
      }
    },
    {
      "cell_type": "code",
      "source": [
        "with open(\"berita.txt\", \"r\") as file:\n",
        "       isi_dalam_file = file.read()\n",
        "       print(\"=====ISI BERITA=====\")\n",
        "       print(isi_dalam_file)\n",
        "\n",
        "kata_unik = []\n",
        "\n",
        "kumpulan_kata = isi_dalam_file.split()\n",
        "for kata in kumpulan_kata:\n",
        "      if kata not in kata_unik:\n",
        "            kata_unik.append(kata.strip(',?!.'))\n",
        "\n",
        "print(\"\\n=====Kata Unik Pada Berita=====\")\n",
        "print(kata_unik)"
      ],
      "metadata": {
        "id": "aUUodvkup9OD"
      },
      "execution_count": null,
      "outputs": []
    }
  ]
}